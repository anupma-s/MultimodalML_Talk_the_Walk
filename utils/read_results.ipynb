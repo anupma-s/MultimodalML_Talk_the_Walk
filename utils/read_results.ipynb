{
 "cells": [
  {
   "cell_type": "code",
   "execution_count": 1,
   "metadata": {},
   "outputs": [],
   "source": [
    "import json\n",
    "import numpy as np\n"
   ]
  },
  {
   "cell_type": "code",
   "execution_count": 27,
   "metadata": {},
   "outputs": [],
   "source": [
    "with open('test_with_acc.train.json') as json_file:\n",
    "    data = json.load(json_file)\n",
    "\n",
    "with open('test.train_imperf.json') as json_file_2:\n",
    "    data_2 = json.load(json_file_2)\n",
    "#     for p in data['people']:\n",
    "#         print('Name: ' + p['name'])\n",
    "#         print('Website: ' + p['website'])\n",
    "#         print('From: ' + p['from'])\n",
    "#         print('')"
   ]
  },
  {
   "cell_type": "code",
   "execution_count": 4,
   "metadata": {},
   "outputs": [
    {
     "data": {
      "text/plain": [
       "dict_keys(['boundaries', 'neighborhood', 'reached', 'target_location', 'start_location', 'landmarks', 'dialog'])"
      ]
     },
     "execution_count": 4,
     "metadata": {},
     "output_type": "execute_result"
    }
   ],
   "source": [
    "data[0].keys()"
   ]
  },
  {
   "cell_type": "code",
   "execution_count": 5,
   "metadata": {},
   "outputs": [
    {
     "data": {
      "text/plain": [
       "[{'y': 0, 'name': 'TD Bank', 'x': 0, 'type': 'Bank', 'orientation': 'NE'},\n",
       " {'y': 1, 'name': 'Citi Bank', 'x': 0, 'type': 'Bank', 'orientation': 'NE'},\n",
       " {'y': 1, 'name': 'TD Bank', 'x': 0, 'type': 'Bank', 'orientation': 'SE'},\n",
       " {'y': 1,\n",
       "  'name': 'The Capital Grille',\n",
       "  'x': 1,\n",
       "  'type': 'Restaurant',\n",
       "  'orientation': 'SW'},\n",
       " {'y': 0, 'name': '..', 'x': 1, 'type': 'Subway', 'orientation': 'SE'}]"
      ]
     },
     "execution_count": 5,
     "metadata": {},
     "output_type": "execute_result"
    }
   ],
   "source": [
    "data[0]['landmarks']\n"
   ]
  },
  {
   "cell_type": "code",
   "execution_count": 6,
   "metadata": {},
   "outputs": [
    {
     "data": {
      "text/plain": [
       "True"
      ]
     },
     "execution_count": 6,
     "metadata": {},
     "output_type": "execute_result"
    }
   ],
   "source": [
    "data[100]['reached']"
   ]
  },
  {
   "cell_type": "code",
   "execution_count": 7,
   "metadata": {},
   "outputs": [],
   "source": [
    "correct = {}\n",
    "incorrect = {}\n",
    "\n",
    "for d in data:\n",
    "    if d['reached']:\n",
    "        for d_ in d['landmarks']:\n",
    "            k = d_['name']\n",
    "#             k = d_['type']\n",
    "            if k in correct.keys():\n",
    "                correct[k] += 1\n",
    "            else:\n",
    "                correct[k] = 1\n",
    "    else:\n",
    "        for d_ in d['landmarks']:\n",
    "            k = d_['name']\n",
    "            if k in incorrect.keys():\n",
    "                incorrect[k] += 1\n",
    "            else:\n",
    "                incorrect[k] = 1\n",
    "\n",
    "        \n",
    "                "
   ]
  },
  {
   "cell_type": "code",
   "execution_count": 8,
   "metadata": {},
   "outputs": [
    {
     "data": {
      "text/plain": [
       "dict_keys(['TD Bank', 'Citi Bank', 'The Capital Grille', '..', 'I <3 NY', 'Bank of America', 'Starbucks', 'Bailey', 'Cafe Wall st', '?', 'Liquor', 'Chipotle', '...', 'Depaneur', 'The Shade Store', 'G-Star raw', '', 'Levee', 'Van Leeuwen', 'ID', 'Dental arts', 'Rituals', 'Chai Tai Kitchen', 'Fish', 'Fat Goose', 'Peter Doelcers', 'Greek', 'Brooklyn Ale', 'Cafe Colette', 'Miranda', 'HSBC', 'Whole Foods', 'SpaceNK', 'Norbu', 'Pizza', 'Pinkyotto', 'Senko Funeral Home', 'Fabianes', 'Uva', 'Brooklyn ..', 'Manhattan Muffins', 'Dunkin Donuts', 'Flower shop', 'Deli', 'Bedford Fruits and Vegetables', 'Sweet Chick', 'Clothing store', \"Kasia's Restaurant\", 'Medical Office', 'Ale House', 'Real Estate', 'Dental Office', 'Crif Dogs', 'Liquor Store', 'Bufalo', 'Pharmacy', 'Ici', 'Fushimi', 'Gourmet Deli', 'The Bean', 'Gringer', 'Lanudry', 'Spiegel', 'Cleaners', 'La Contrada', 'Coopers', 'Healthy', 'Moonstruck', 'Rite Aid', 'Empty', 'Bicycle', 'Prescription center', 'Flower', 'Misc', 'Santander', 'Liquors & Wine', 'KeyFood', 'DuaneRead', 'China Wok', 'Eastside deli', 'Restaurant', 'CapitalOne Bank', 'Fine Fare', 'Laundromat', 'Lower east side housing', 'Horus', 'Grocery', 'Wholesome foods', 'Alphabet Lounge', 'Jum', 'Best Buy', 'H&M', 'Grab&Go', 'Bocado', 'CVS Pharmacy', 'AT&T', 'Banana Republic', 'Drink Papaya', 'Optical', 'Duane Reade', 'Maison Kayser', 'Green Cafe', 'Le Pain Quotidien', 'Roma Pizza', 'National Bank', 'Blue Mercury', 'Chase', 'Gracies Diner', 'Cafe Dalsace', 'Vietnaam', 'Shosa Sushi', 'Gracies Corner', 'Flower Shop', 'Ridgewood savings bank', 'Sweet icecream', 'NY Paint & Hardware', 'Luigi Pizza & Restaurant', 'Bagel Mill', 'Drug Mart', 'The Mansion', 'Wines & Spirits', 'Hansol Farm', 'Contes', 'Checks Cashed', 'H&R Block', 'Ramses Deli', 'Mexican', 'Boxers', 'Rancho Tequilera', \"Uncle Mario's Pizza\", 'Petland', 'Skyline Gourmet', 'Wine & Liquors shop', 'DouaneReade', '7 brothers deli', \"Mickey Spillane's\", 'Tagg', 'Il Melograno', \"Jasper's Kitchen\", 'Arriba Arriba: Mexican Grill', 'Hudson Market Place', 'VYNL', 'MT Bank', 'Pret a Manger', 'Thalin', 'Westend Grill', 'Food2go', 'Gotham Pizza', 'Chipotle mexican grill', 'Subway', 'Fridays', 'Barclays', 'Majestic Delicatesse Cafe', 'Gregorios Coffee', 'School of Rock', 'Roast Kitchen', 'Superdry', \"Tony Gift's shop\", 'Gift Shop', 'Manhattan', 'The Michelangelo', 'City bank', 'Radio City', 'Loft', 'Magnolia Bakery', 'Brooks Brothers', 'Radiocity', 'Sheraton', \"Rosie Ogrady's\", 'The Manhattan', \"Lindy's\", 'Hilton', 'Blue mercury'])"
      ]
     },
     "execution_count": 8,
     "metadata": {},
     "output_type": "execute_result"
    }
   ],
   "source": [
    "correct.keys()"
   ]
  },
  {
   "cell_type": "code",
   "execution_count": 9,
   "metadata": {},
   "outputs": [
    {
     "name": "stdout",
     "output_type": "stream",
     "text": [
      "0.25 0.23393924302788843\n",
      "0.8670973696354407 0.8768704574604532\n"
     ]
    }
   ],
   "source": [
    "correct_generic = correct['..'] +correct['...'] +correct['?'] \n",
    "correct_specific = sum(correct.values())- correct_generic\n",
    "\n",
    "incorrect_generic = incorrect['..'] +incorrect['...'] +incorrect['?'] \n",
    "incorrect_specific = sum(incorrect.values())- incorrect_generic\n",
    "\n",
    "spec_perc = correct_specific/(incorrect_specific+correct_specific)\n",
    "gen_perc = correct_generic/(correct_generic+incorrect_generic)\n",
    "print(gen_perc, spec_perc)\n",
    "\n",
    "corr_perc = correct_specific/(correct_specific+correct_generic)\n",
    "incorr_perc = incorrect_specific/(incorrect_specific+incorrect_generic)\n",
    "print(corr_perc, incorr_perc)"
   ]
  },
  {
   "cell_type": "code",
   "execution_count": 10,
   "metadata": {},
   "outputs": [
    {
     "data": {
      "text/plain": [
       "<Figure size 2000x1000 with 1 Axes>"
      ]
     },
     "metadata": {},
     "output_type": "display_data"
    }
   ],
   "source": [
    "a = [correct_generic, incorrect_generic ] #gen\n",
    "b = [correct_specific, incorrect_specific] #spec\n",
    "\n",
    "from matplotlib import pyplot as plt\n",
    "import numpy as np\n",
    "import matplotlib\n",
    "x = np.arange(2)  # the label locations\n",
    "width = 0.1  # the width of the bars\n",
    "\n",
    "fig, ax = plt.subplots(figsize=(20, 10))\n",
    "rects1 = ax.bar(x - width/2, a, width, label='Generic')\n",
    "rects2 = ax.bar(x + width/2, b, width, label='Specific')\n",
    "\n",
    "ax.set_ylabel('Scores')\n",
    "ax.set_title('Scores by group and gender')\n",
    "ax.set_xticks(x)\n",
    "ax.set_xticklabels([0,1])\n",
    "ax.legend()\n",
    "\n",
    "\n",
    "def autolabel(rects):\n",
    "    \"\"\"Attach a text label above each bar in *rects*, displaying its height.\"\"\"\n",
    "    for rect in rects:\n",
    "        height = rect.get_height()\n",
    "        ax.annotate('{}'.format(height),\n",
    "                    xy=(rect.get_x() + rect.get_width() / 2, height),\n",
    "                    xytext=(0, 3),  # 3 points vertical offset\n",
    "                    textcoords=\"offset points\",\n",
    "                    ha='center', va='bottom')\n",
    "\n",
    "\n",
    "autolabel(rects1)\n",
    "autolabel(rects2)\n",
    "\n",
    "fig.tight_layout()\n",
    "plt.grid()\n",
    "plt.xlabel('Length of the path')\n",
    "plt.ylabel('Accuracy')\n",
    "plt.title('Accuracy vs length of the path')\n",
    "font = {'weight' : 'bold',\n",
    "        'size'   : 20}\n",
    "\n",
    "matplotlib.rc('font', **font)\n",
    "plt.show()"
   ]
  },
  {
   "cell_type": "code",
   "execution_count": 28,
   "metadata": {},
   "outputs": [],
   "source": [
    "correct_2 = {}\n",
    "incorrect_2 = {}\n",
    "\n",
    "for d in data:\n",
    "    if d['reached']:\n",
    "        for d_ in d['landmarks']:\n",
    "            k = d_['type']\n",
    "            if k in correct_2.keys():\n",
    "                correct_2[k] += 1\n",
    "            else:\n",
    "                correct_2[k] = 1\n",
    "    else:\n",
    "        for d_ in d['landmarks']:\n",
    "            k = d_['type']\n",
    "            if k in incorrect_2.keys():\n",
    "                incorrect_2[k] += 1\n",
    "            else:\n",
    "                incorrect_2[k] = 1\n",
    "                \n",
    "                \n",
    "                \n",
    "correct_2_2 = {}\n",
    "incorrect_2_2 = {}\n",
    "\n",
    "for d in data_2:\n",
    "    if d['reached']:\n",
    "        for d_ in d['landmarks']:\n",
    "            k = d_['type']\n",
    "            if k in correct_2_2.keys():\n",
    "                correct_2_2[k] += 1\n",
    "            else:\n",
    "                correct_2_2[k] = 1\n",
    "    else:\n",
    "        for d_ in d['landmarks']:\n",
    "            k = d_['type']\n",
    "            if k in incorrect_2_2.keys():\n",
    "                incorrect_2_2[k] += 1\n",
    "            else:\n",
    "                incorrect_2_2[k] = 1"
   ]
  },
  {
   "cell_type": "code",
   "execution_count": 29,
   "metadata": {},
   "outputs": [
    {
     "data": {
      "text/plain": [
       "['Bank',\n",
       " 'Restaurant',\n",
       " 'Subway',\n",
       " 'Shop',\n",
       " 'Coffee Shop',\n",
       " 'Bar',\n",
       " 'Playfield',\n",
       " 'Theater',\n",
       " 'Hotel']"
      ]
     },
     "execution_count": 29,
     "metadata": {},
     "output_type": "execute_result"
    }
   ],
   "source": [
    "types = list(correct_2.keys())\n",
    "types"
   ]
  },
  {
   "cell_type": "code",
   "execution_count": 32,
   "metadata": {},
   "outputs": [],
   "source": [
    "a = []\n",
    "b = []\n",
    "p = []\n",
    "for t in types:\n",
    "    a.append(correct_2[t])\n",
    "    b.append(incorrect_2[t])\n",
    "    p.append(correct_2[t]/(correct_2[t]+incorrect_2[t]))\n",
    "    \n",
    "\n",
    "myorder = [3, 1, 4, 0, 2, 5, 8, 7, 6]\n",
    "a = [a[i] for i in myorder]\n",
    "b = [b[i] for i in myorder]\n",
    "p = [p[i] for i in myorder]\n",
    "\n",
    "\n",
    "\n",
    "a_2 = []\n",
    "b_2 = []\n",
    "p_2 = []\n",
    "for t in types:\n",
    "    a_2.append(correct_2_2[t])\n",
    "    b_2.append(incorrect_2_2[t])\n",
    "    p_2.append(correct_2_2[t]/(correct_2_2[t]+incorrect_2_2[t]))\n",
    "    \n",
    "\n",
    "myorder = [3, 1, 4, 0, 2, 5, 8, 7, 6]\n",
    "a_2 = [a_2[i] for i in myorder]\n",
    "b_2 = [b_2[i] for i in myorder]\n",
    "p_2 = [p_2[i] for i in myorder]\n"
   ]
  },
  {
   "cell_type": "code",
   "execution_count": 36,
   "metadata": {},
   "outputs": [
    {
     "data": {
      "image/png": "[encoded data removed]",
      "text/plain": [
       "<Figure size 1440x720 with 1 Axes>"
      ]
     },
     "metadata": {
      "needs_background": "light"
     },
     "output_type": "display_data"
    },
    {
     "name": "stdout",
     "output_type": "stream",
     "text": [
      "2167 7017\n",
      "2234 6950\n"
     ]
    }
   ],
   "source": [
    "\n",
    "\n",
    "from matplotlib import pyplot as plt\n",
    "import numpy as np\n",
    "import matplotlib\n",
    "x = np.arange(len(a))  # the label locations\n",
    "width = 0.17  # the width of the bars\n",
    "\n",
    "fig, ax = plt.subplots(figsize=(20, 10))\n",
    "# rects1 = ax.bar(x - width*7/2, a[0], width, label='Bank')\n",
    "# rects2 = ax.bar(x - width*5/2, a[1], width, label='Shop')\n",
    "# rects1 = ax.bar(x - width*3/2, a[2], width, label='Subway')\n",
    "rects2 = ax.bar(x - 3*width/2, b, width, label='Perfect perception - Did not reach its target', color='r')\n",
    "rects1 = ax.bar(x - width/2, b_2, width, label='Imperfect perception - Did not reach its target', color='salmon')\n",
    "rects3 = ax.bar(x + width/2, a, width, label='Perfect perception - Reached its target successfully', color='g')\n",
    "rects4 = ax.bar(x + 3*width/2, a_2, width, label='Imperfect perception - Reached its target successfully', color='mediumseagreen')\n",
    "# rects2 = ax.bar(x + width*3/2, a[5], width, label='Hotel')\n",
    "# rects1 = ax.bar(x + width*5/2, a[6], width, label='Playfield')\n",
    "# rects2 = ax.bar(x + width*7/2, a[7], width, label='Bar')\n",
    "\n",
    "# ax.set_ylabel('Scores')\n",
    "# ax.set_title('Scores by group and gender')\n",
    "ax.set_xticks(x)\n",
    "ax.set_xticklabels(types)\n",
    "ax.legend()\n",
    "\n",
    "\n",
    "\n",
    "def autolabel(rects):\n",
    "    \"\"\"Attach a text label above each bar in *rects*, displaying its height.\"\"\"\n",
    "    for rect in rects:\n",
    "        height = rect.get_height()\n",
    "        ax.annotate('{}'.format(height),\n",
    "                    xy=(rect.get_x() + rect.get_width() / 2, height),\n",
    "                    xytext=(0, 3),  # 3 points vertical offset\n",
    "                    textcoords=\"offset points\",\n",
    "                    ha='center', va='bottom')\n",
    "\n",
    "\n",
    "autolabel(rects1)\n",
    "autolabel(rects2)\n",
    "autolabel(rects3)\n",
    "autolabel(rects4)\n",
    "\n",
    "fig.tight_layout()\n",
    "plt.grid()\n",
    "plt.xlabel('Landmark')\n",
    "plt.ylabel('Number of times a landmark comes in the path')\n",
    "# plt.title('Contribution of each landmark in')\n",
    "font = {'weight' : 'bold',\n",
    "        'size'   : 5}\n",
    "\n",
    "matplotlib.rc('font', **font)\n",
    "plt.show()\n",
    "\n",
    "print(sum(a),sum(b))\n",
    "print(sum(a_2),sum(b_2))"
   ]
  },
  {
   "cell_type": "code",
   "execution_count": 169,
   "metadata": {},
   "outputs": [],
   "source": [
    "\n",
    "utt = []\n",
    "for d in data[0]['dialog']:\n",
    "    k = d['text']\n",
    "    if d['id'] == 'Tourist' and d['text'][0] != 'A':\n",
    "        utt.append(k+'\\n')\n",
    "        \n",
    "with open('tourist_utterances.txt','w') as f:\n",
    "    f.writelines(utt)\n",
    "            \n",
    "    "
   ]
  },
  {
   "cell_type": "code",
   "execution_count": null,
   "metadata": {},
   "outputs": [],
   "source": []
  }
 ],
 "metadata": {
  "kernelspec": {
   "display_name": "Python 3",
   "language": "python",
   "name": "python3"
  },
  "language_info": {
   "codemirror_mode": {
    "name": "ipython",
    "version": 3
   },
   "file_extension": ".py",
   "mimetype": "text/x-python",
   "name": "python",
   "nbconvert_exporter": "python",
   "pygments_lexer": "ipython3",
   "version": "3.7.3"
  }
 },
 "nbformat": 4,
 "nbformat_minor": 2
}
